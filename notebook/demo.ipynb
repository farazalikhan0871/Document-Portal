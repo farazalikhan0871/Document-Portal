{
 "cells": [
  {
   "cell_type": "code",
   "execution_count": 23,
   "id": "2db70c16",
   "metadata": {},
   "outputs": [],
   "source": [
    "import os"
   ]
  },
  {
   "cell_type": "code",
   "execution_count": 24,
   "id": "c7df6d2a",
   "metadata": {},
   "outputs": [],
   "source": [
    "import sys \n",
    "from utils.config_loaders import load_config"
   ]
  },
  {
   "cell_type": "code",
   "execution_count": 25,
   "id": "14e0d46e",
   "metadata": {},
   "outputs": [],
   "source": [
    "from dotenv import load_dotenv"
   ]
  },
  {
   "cell_type": "code",
   "execution_count": 26,
   "id": "c79bfb8f",
   "metadata": {},
   "outputs": [],
   "source": [
    "from langchain_google_genai import GoogleGenerativeAI\n",
    "from langchain_google_genai import ChatGoogleGenerativeAI\n",
    "from langchain_groq import ChatGroq"
   ]
  },
  {
   "cell_type": "code",
   "execution_count": 27,
   "id": "38c5f0b4",
   "metadata": {},
   "outputs": [],
   "source": [
    "#logger=CustomLogger().get_logger(\"exception_experiment\")"
   ]
  },
  {
   "cell_type": "code",
   "execution_count": 28,
   "id": "d8e3c50e",
   "metadata": {},
   "outputs": [],
   "source": [
    "# Load configuration\n",
    "from logger.custom_logger import CustomLogger\n",
    "from exception.custom_exception import DocumentPortalException"
   ]
  },
  {
   "cell_type": "code",
   "execution_count": 29,
   "id": "aa8d097b",
   "metadata": {},
   "outputs": [],
   "source": [
    "log=CustomLogger().get_logger(\"demo\")"
   ]
  },
  {
   "cell_type": "code",
   "execution_count": 30,
   "id": "3765d675",
   "metadata": {},
   "outputs": [],
   "source": [
    "class ModelLoader:\n",
    "    \"\"\"\n",
    "    A utility class to load embedding models and LLM models.\n",
    "    \"\"\"\n",
    "    def __init__(self):\n",
    "        load_dotenv()  # Loads environment variables from .env file.\n",
    "        self._validate_env()  # Checks if needed keys are set.\n",
    "        self.config = load_config()  # Loads settings from a config file.\n",
    "        log.info(\"Configuration loaded successfully\", config_keys=list(self.config.keys()))  # Logs which settings were loaded.\n",
    "\n",
    "    def _validate_env(self):\n",
    "        \"\"\"\n",
    "        Validate necessary environment variables.\n",
    "        Ensure API keys exist.\n",
    "        \"\"\"\n",
    "        required_vars = [\"GOOGLE_API_KEY\", \"GROQ_API_KEY\"]  # List of needed keys.\n",
    "        self.api_keys = {key: os.getenv(key) for key in required_vars}  # Gets their values.\n",
    "        missing = [k for k, v in self.api_keys.items() if not v]  # Finds any missing keys.\n",
    "        if missing:\n",
    "            log.error(\"Missing environment variables\", missing_vars=missing)  # Logs error if missing.\n",
    "            raise DocumentPortalException(\"Missing environment variables\", sys)  # Stops program if missing.\n",
    "        log.info(\"Environment variables validated\", available_keys=[k for k in self.api_keys if self.api_keys[k]])  # Logs success if all present.\n",
    "\n",
    "    def load_embeddings(self):\n",
    "        \"\"\"\n",
    "        Load and return the embedding model.\n",
    "        \"\"\"\n",
    "        try:\n",
    "            log.info(\"Loading embedding model...\")\n",
    "            model_name = self.config[\"embedding_model\"][\"model_name\"]  # Gets model name from config.\n",
    "            return GoogleGenerativeAIEmbeddings(model=model_name)  # Loads embedding model.\n",
    "        except Exception as e:\n",
    "            log.error(\"Error loading embedding model\", error=str(e))  # Logs error if loading fails.\n",
    "            raise DocumentPortalException(\"Failed to load embedding model\", sys)  # Stops program if loading fails.\n",
    "    \n",
    "    def load_llm(self):\n",
    "        \"\"\"\n",
    "        Load and return the LLM model.\n",
    "        \"\"\"\n",
    "        \"\"\"Load LLM dynamically based on provider in config.\"\"\"\n",
    "        llm_block = self.config[\"llm\"]  # Gets LLM settings from config.\n",
    "        log.info(\"Loading LLM...\")\n",
    "        provider_key = os.getenv(\"LLM_PROVIDER\", \"groq\")  # Uses provider from environment, defaults to \"groq\".\n",
    "        if provider_key not in llm_block:\n",
    "            log.error(\"LLM provider not found in config\", provider_key=provider_key)\n",
    "            raise ValueError(f\"Provider '{provider_key}' not found in config\")\n",
    "        llm_config = llm_block[provider_key]  # Gets provider settings.\n",
    "        provider = llm_config.get(\"provider\")\n",
    "        model_name = llm_config.get(\"model_name\")\n",
    "        temperature = llm_config.get(\"temperature\", 0.2)\n",
    "        max_tokens = llm_config.get(\"max_output_tokens\", 2048)\n",
    "        log.info(\"Loading LLM\", provider=provider, model=model_name, temperature=temperature, max_tokens=max_tokens)\n",
    "        if provider == \"google\":\n",
    "            llm = ChatGoogleGenerativeAI(\n",
    "                model=model_name,\n",
    "                temperature=temperature,\n",
    "                max_output_tokens=max_tokens\n",
    "            )\n",
    "            return llm\n",
    "        elif provider == \"groq\":\n",
    "            llm = ChatGroq(\n",
    "                model=model_name,\n",
    "                api_key=self.api_keys[\"GROQ_API_KEY\"],  # Uses GROQ API key.\n",
    "                temperature=temperature,\n",
    "            )\n",
    "            return llm\n",
    "        # elif provider == \"openai\":\n",
    "        #     return ChatOpenAI(\n",
    "        #         model=model_name,\n",
    "        #         api_key=self.api_keys[\"OPENAI_API_KEY\"],\n",
    "        #         temperature=temperature,\n",
    "        #         max_tokens=max_tokens\n",
    "        #     )\n",
    "        else:\n",
    "            log.error(\"Unsupported LLM provider\", provider=provider)\n",
    "            raise ValueError(f\"Unsupported LLM provider: {provider}\")\n",
    "\n"
   ]
  },
  {
   "cell_type": "code",
   "execution_count": 32,
   "id": "26d665d6",
   "metadata": {},
   "outputs": [
    {
     "name": "stderr",
     "output_type": "stream",
     "text": [
      "{\"available_keys\": [\"GOOGLE_API_KEY\", \"GROQ_API_KEY\"], \"timestamp\": \"2025-08-06T18:30:03.249471Z\", \"level\": \"info\", \"event\": \"Environment variables validated\"}\n"
     ]
    },
    {
     "ename": "FileNotFoundError",
     "evalue": "[Errno 2] No such file or directory: 'config\\\\config.yaml'",
     "output_type": "error",
     "traceback": [
      "\u001b[1;31m---------------------------------------------------------------------------\u001b[0m",
      "\u001b[1;31mFileNotFoundError\u001b[0m                         Traceback (most recent call last)",
      "Cell \u001b[1;32mIn[32], line 2\u001b[0m\n\u001b[0;32m      1\u001b[0m \u001b[38;5;28;01mif\u001b[39;00m \u001b[38;5;18m__name__\u001b[39m \u001b[38;5;241m==\u001b[39m \u001b[38;5;124m\"\u001b[39m\u001b[38;5;124m__main__\u001b[39m\u001b[38;5;124m\"\u001b[39m:\n\u001b[1;32m----> 2\u001b[0m     loader \u001b[38;5;241m=\u001b[39m \u001b[43mModelLoader\u001b[49m\u001b[43m(\u001b[49m\u001b[43m)\u001b[49m  \u001b[38;5;66;03m# Makes a ModelLoader object.\u001b[39;00m\n\u001b[0;32m      3\u001b[0m     embeddings \u001b[38;5;241m=\u001b[39m loader\u001b[38;5;241m.\u001b[39mload_embeddings()  \u001b[38;5;66;03m# Loads embedding model.\u001b[39;00m\n\u001b[0;32m      4\u001b[0m     \u001b[38;5;28mprint\u001b[39m(\u001b[38;5;124mf\u001b[39m\u001b[38;5;124m\"\u001b[39m\u001b[38;5;124mEmbedding Model Loaded: \u001b[39m\u001b[38;5;132;01m{\u001b[39;00membeddings\u001b[38;5;132;01m}\u001b[39;00m\u001b[38;5;124m\"\u001b[39m)  \u001b[38;5;66;03m# Prints embedding model.\u001b[39;00m\n",
      "Cell \u001b[1;32mIn[30], line 8\u001b[0m, in \u001b[0;36mModelLoader.__init__\u001b[1;34m(self)\u001b[0m\n\u001b[0;32m      6\u001b[0m load_dotenv()  \u001b[38;5;66;03m# Loads environment variables from .env file.\u001b[39;00m\n\u001b[0;32m      7\u001b[0m \u001b[38;5;28mself\u001b[39m\u001b[38;5;241m.\u001b[39m_validate_env()  \u001b[38;5;66;03m# Checks if needed keys are set.\u001b[39;00m\n\u001b[1;32m----> 8\u001b[0m \u001b[38;5;28mself\u001b[39m\u001b[38;5;241m.\u001b[39mconfig \u001b[38;5;241m=\u001b[39m \u001b[43mload_config\u001b[49m\u001b[43m(\u001b[49m\u001b[43m)\u001b[49m  \u001b[38;5;66;03m# Loads settings from a config file.\u001b[39;00m\n\u001b[0;32m      9\u001b[0m log\u001b[38;5;241m.\u001b[39minfo(\u001b[38;5;124m\"\u001b[39m\u001b[38;5;124mConfiguration loaded successfully\u001b[39m\u001b[38;5;124m\"\u001b[39m, config_keys\u001b[38;5;241m=\u001b[39m\u001b[38;5;28mlist\u001b[39m(\u001b[38;5;28mself\u001b[39m\u001b[38;5;241m.\u001b[39mconfig\u001b[38;5;241m.\u001b[39mkeys()))\n",
      "File \u001b[1;32md:\\documentportal\\utils\\config_loaders.py:4\u001b[0m, in \u001b[0;36mload_config\u001b[1;34m(config_path)\u001b[0m\n\u001b[0;32m      3\u001b[0m \u001b[38;5;28;01mdef\u001b[39;00m \u001b[38;5;21mload_config\u001b[39m(config_path: \u001b[38;5;28mstr\u001b[39m \u001b[38;5;241m=\u001b[39m \u001b[38;5;124m\"\u001b[39m\u001b[38;5;124mconfig\u001b[39m\u001b[38;5;124m\\\u001b[39m\u001b[38;5;124mconfig.yaml\u001b[39m\u001b[38;5;124m\"\u001b[39m)\u001b[38;5;241m-\u001b[39m\u001b[38;5;241m>\u001b[39m\u001b[38;5;28mdict\u001b[39m:\n\u001b[1;32m----> 4\u001b[0m     \u001b[38;5;28;01mwith\u001b[39;00m \u001b[38;5;28;43mopen\u001b[39;49m\u001b[43m(\u001b[49m\u001b[43mconfig_path\u001b[49m\u001b[43m,\u001b[49m\u001b[43m \u001b[49m\u001b[38;5;124;43m'\u001b[39;49m\u001b[38;5;124;43mr\u001b[39;49m\u001b[38;5;124;43m'\u001b[39;49m\u001b[43m)\u001b[49m \u001b[38;5;28;01mas\u001b[39;00m file:\n\u001b[0;32m      5\u001b[0m         config \u001b[38;5;241m=\u001b[39m yaml\u001b[38;5;241m.\u001b[39msafe_load(file)\n\u001b[0;32m      6\u001b[0m     \u001b[38;5;28;01mreturn\u001b[39;00m config\n",
      "\u001b[1;31mFileNotFoundError\u001b[0m: [Errno 2] No such file or directory: 'config\\\\config.yaml'"
     ]
    }
   ],
   "source": [
    "if __name__ == \"__main__\":\n",
    "    loader = ModelLoader()  # Makes a ModelLoader object.\n",
    "    embeddings = loader.load_embeddings()  # Loads embedding model.\n",
    "    print(f\"Embedding Model Loaded: {embeddings}\")  # Prints embedding model.\n",
    "    result = embeddings.embed_query(\"Hello, how are you?\")  # Gets embedding for a sample text.\n",
    "    print(f\"Embedding Result: {result}\")  # Prints embedding result.\n",
    "    llm = loader.load_llm()  # Loads LLM model.\n",
    "    print(f\"LLM Loaded: {llm}\")  # Prints LLM model.\n",
    "    result = llm.invoke(\"Hello, how are you?\")  # Gets LLM response for a sample text.\n",
    "    print(f\"LLM Result: {result.content}\")  # Prints LLM response."
   ]
  },
  {
   "cell_type": "code",
   "execution_count": 33,
   "id": "b31558e5",
   "metadata": {},
   "outputs": [
    {
     "name": "stdout",
     "output_type": "stream",
     "text": [
      "faiss_db:\n",
      "  collection_name: \"document_portal\"\n",
      "\n",
      "\n",
      "embedding_model:\n",
      "  provider: \"google\"\n",
      "  model_name: \"models/text-embedding-004\"\n",
      "\n",
      "retriever:\n",
      "  top_k: 10\n",
      "\n",
      "llm:\n",
      "  groq:\n",
      "    provider: \"groq\"\n",
      "    model_name: \"deepseek-r1-distill-llama-70b\"\n",
      "    temperature: 0\n",
      "    max_output_tokens: 2048\n",
      "\n",
      "  google:\n",
      "    provider: \"google\"\n",
      "    model_name: \"gemini-2.0-flash\"\n",
      "    temperature: 0\n",
      "    max_output_tokens: 2048\n"
     ]
    }
   ],
   "source": [
    "with open(r\"D:\\DocumentPortal\\config\\config.yaml\", \"r\") as f:\n",
    "    print(f.read())"
   ]
  },
  {
   "cell_type": "code",
   "execution_count": null,
   "id": "2b380b34",
   "metadata": {},
   "outputs": [],
   "source": []
  }
 ],
 "metadata": {
  "kernelspec": {
   "display_name": "llmops",
   "language": "python",
   "name": "python3"
  },
  "language_info": {
   "codemirror_mode": {
    "name": "ipython",
    "version": 3
   },
   "file_extension": ".py",
   "mimetype": "text/x-python",
   "name": "python",
   "nbconvert_exporter": "python",
   "pygments_lexer": "ipython3",
   "version": "3.10.18"
  }
 },
 "nbformat": 4,
 "nbformat_minor": 5
}
